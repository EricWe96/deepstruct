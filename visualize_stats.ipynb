{
 "cells": [
  {
   "cell_type": "markdown",
   "id": "8a289667ba874552",
   "metadata": {
    "collapsed": false
   },
   "source": [
    "# This notebook is used to conduct experiments on neural network graph extraction.\n",
    "## Procedure\n",
    "1. Write a script which extracts information of the graph from a neural network model using flexible transform. It should be configurable which network types should be transformed in a low level manner and how often it is executed. \n",
    "2. Get the CSV data of a module e.g. AlexNet, ResNet or GoogleNet\n",
    "3. Use pandas to load the csv data as dataframe\n",
    "4. Use seaborn or plotly to visualize the data with boxplots"
   ]
  },
  {
   "cell_type": "markdown",
   "id": "7321fff9f8556d58",
   "metadata": {
    "collapsed": false
   },
   "source": [
    "\n",
    "  "
   ]
  },
  {
   "cell_type": "code",
   "execution_count": null,
   "outputs": [],
   "source": [
    "import torch\n",
    "import torch.nn as nn\n",
    "import torch.nn.functional as F\n",
    "\n",
    "class SimpleResNetLikeModel(nn.Module):\n",
    "    def __init__(self, num_classes=10):\n",
    "        super(SimpleResNetLikeModel, self).__init__()\n",
    "        self.conv1 = nn.Conv2d(3, 64, kernel_size=7, stride=2, padding=3, bias=False)\n",
    "        self.bn1 = nn.BatchNorm2d(64)\n",
    "        self.relu = nn.ReLU(inplace=True)\n",
    "        self.maxpool = nn.MaxPool2d(kernel_size=3, stride=2, padding=1)\n",
    "\n",
    "        self.conv2 = nn.Conv2d(64, 128, kernel_size=3, padding=1, bias=False)\n",
    "        self.bn2 = nn.BatchNorm2d(128)\n",
    "\n",
    "        self.avgpool = nn.AdaptiveAvgPool2d((1, 1))\n",
    "        self.fc = nn.Linear(128, num_classes)\n",
    "\n",
    "    def forward(self, x):\n",
    "        x = self.conv1(x)\n",
    "        x = self.bn1(x)\n",
    "        x = self.relu(x)\n",
    "        x = self.maxpool(x)\n",
    "\n",
    "        x = self.conv2(x)\n",
    "        x = self.bn2(x)\n",
    "        x = self.relu(x)\n",
    "\n",
    "        x = self.avgpool(x)\n",
    "        x = torch.flatten(x, 1)\n",
    "        x = self.fc(x)\n",
    "\n",
    "        return x\n",
    "\n",
    "\n"
   ],
   "metadata": {
    "collapsed": false
   },
   "id": "78ad3924c55a8d57"
  },
  {
   "cell_type": "markdown",
   "id": "83b83947cae33a5",
   "metadata": {
    "collapsed": false
   },
   "source": []
  },
  {
   "cell_type": "code",
   "execution_count": null,
   "id": "358b0f3b044a422f",
   "metadata": {
    "collapsed": false
   },
   "outputs": [],
   "source": [
    "from matplotlib import pyplot as plt\n",
    "import networkx as nx\n",
    "\n",
    "def plot_graph(graph, title):\n",
    "    labels = nx.get_node_attributes(graph, 'name')\n",
    "    fig, ax = plt.subplots(figsize=(10, 10))\n",
    "    nx.draw(graph, labels=labels, with_labels=True, node_size=700, node_color='lightblue', font_size=8,\n",
    "            ax=ax)\n",
    "    plt.title(title)\n",
    "    plt.show()"
   ]
  },
  {
   "cell_type": "markdown",
   "source": [
    "# Test Stage for potential models"
   ],
   "metadata": {
    "collapsed": false
   },
   "id": "c8a85adfbc0aec3e"
  },
  {
   "cell_type": "code",
   "execution_count": null,
   "outputs": [],
   "source": [
    "from deepstruct.traverse_strategies import FXTraversal\n",
    "from deepstruct.flexible_transform import GraphTransform\n",
    "import torch\n",
    "import torchvision\n",
    "\n",
    "model = SimpleResNetLikeModel()\n",
    "input_tensor = torch.rand(1, 3, 224, 224)\n",
    "graph_transformer = GraphTransform(input_tensor, traversal_strategy=FXTraversal())\n",
    "graph_transformer.transform(model)\n",
    "graph = graph_transformer.get_graph()\n",
    "print(graph)\n",
    "plot_graph(graph, \"Transformation\")"
   ],
   "metadata": {
    "collapsed": false
   },
   "id": "a72d1d1fff631a2a"
  },
  {
   "cell_type": "code",
   "execution_count": null,
   "outputs": [],
   "source": [
    "from deepstruct.node_map_strategies import LowLevelNodeMap\n",
    "from deepstruct.traverse_strategies import FXTraversal\n",
    "from deepstruct.flexible_transform import GraphTransform\n",
    "import torch\n",
    "\n",
    "model = SimpleResNetLikeModel()\n",
    "input_tensor = torch.rand(1, 3, 224, 224)\n",
    "graph_transformer = GraphTransform(input_tensor, traversal_strategy=FXTraversal(), node_map_strategy=LowLevelNodeMap())\n",
    "graph_transformer.transform(model)\n",
    "graph = graph_transformer.get_graph()\n",
    "print(graph)\n",
    "# plot_graph(graph, \"Transformation\")"
   ],
   "metadata": {
    "collapsed": false
   },
   "id": "ad88299a352167e9"
  },
  {
   "cell_type": "code",
   "execution_count": null,
   "id": "3393ddee51c014e3",
   "metadata": {
    "collapsed": false
   },
   "outputs": [],
   "source": [
    "from deepstruct.model_graph_stats import get_model_graph_stats\n",
    "import torch\n",
    "import torchvision\n",
    "\n",
    "graphs = get_model_graph_stats(torchvision.models.alexnet(True), torch.rand(1, 3, 224, 224), 100, 'AlexNet', 'AlexNet_High_Level')"
   ]
  },
  {
   "cell_type": "code",
   "execution_count": null,
   "id": "697123ef133e3722",
   "metadata": {
    "collapsed": false
   },
   "outputs": [],
   "source": [
    "import torch\n",
    "import torchvision\n",
    "from deepstruct.node_map_strategies import Linear2LayerMapper, Conv2LayerMapper\n",
    "from deepstruct.model_graph_stats import get_model_graph_stats\n",
    "\n",
    "graphs = get_model_graph_stats(torchvision.models.resnet18(True), torch.rand(1, 3, 224, 224), 11, 'ResNet18', 'resnet18_low_level_linear', low_level_module_maps={torch.nn.Linear: Linear2LayerMapper(-1)})\n",
    "print(graphs[0])\n",
    "graphs = get_model_graph_stats(torchvision.models.resnet18(True), torch.rand(1, 3, 224, 224), 11, 'ResNet18', 'resnet18_low_level_conv', low_level_module_maps={torch.nn.Conv2d: Conv2LayerMapper(-1)})\n",
    "print(graphs[0])"
   ]
  },
  {
   "cell_type": "code",
   "execution_count": null,
   "id": "723f737c-c8a8-4284-a0cf-512720ddcf1e",
   "metadata": {},
   "outputs": [],
   "source": [
    "import torch\n",
    "import torchvision\n",
    "from deepstruct.node_map_strategies import Linear2LayerMapper\n",
    "from deepstruct.model_graph_stats import get_model_graph_stats\n",
    "\n",
    "model = SimpleResNetLikeModel()\n",
    "graphs = get_model_graph_stats(torchvision.models.mobilenet_v2(True), torch.rand(1, 3, 224, 224), 1, 'model', 'test_low_level_linear', low_level_module_maps={torch.nn.Linear: Linear2LayerMapper(-1)})\n",
    "print(graphs[0])"
   ]
  },
  {
   "cell_type": "markdown",
   "source": [
    "\n",
    "\n"
   ],
   "metadata": {
    "collapsed": false
   },
   "id": "4293541f5c08c58c"
  },
  {
   "cell_type": "code",
   "execution_count": null,
   "outputs": [],
   "source": [
    "import pandas as pd\n",
    "import seaborn as sns\n",
    "import matplotlib.pyplot as plt\n",
    "\n",
    "df = pd.read_csv('graph_stats/AlexNet_High_Level.csv')\n",
    "sns.boxplot(x='Model', y='Elapsed Time', data=df) # informationen zu samples hinzufügen \n",
    "plt.show() # skallierung der achsen (y-lim) muss vergleichbar sein"
   ],
   "metadata": {
    "collapsed": false
   },
   "id": "130505360d31f456"
  },
  {
   "cell_type": "code",
   "execution_count": null,
   "outputs": [],
   "source": [
    "class SimpleResNet(nn.Module):\n",
    "    def __init__(self, in_channels, out_channels, num_classes):\n",
    "        super(SimpleResNet, self).__init__()\n",
    "        self.conv1 = nn.Conv2d(in_channels, out_channels, kernel_size=3, stride=1, padding=1)\n",
    "        self.bn1 = nn.BatchNorm2d(out_channels)\n",
    "        self.relu = nn.ReLU()\n",
    "        self.avgpool = nn.AdaptiveAvgPool2d((1, 1))\n",
    "        self.fc = nn.Linear(out_channels, num_classes)\n",
    "\n",
    "    def forward(self, x):\n",
    "        out = self.conv1(x)\n",
    "        out = self.bn1(out)\n",
    "        out = self.relu(out)\n",
    "        out = self.avgpool(out)\n",
    "        out = torch.flatten(out, 1)\n",
    "        out = self.fc(out)\n",
    "        return out\n"
   ],
   "metadata": {
    "collapsed": false
   },
   "id": "e976838736ca5994"
  },
  {
   "cell_type": "code",
   "execution_count": null,
   "outputs": [],
   "source": [
    "import torch\n",
    "from deepstruct.node_map_strategies import Linear2LayerMapper, Conv2LayerMapper\n",
    "from deepstruct.model_graph_stats import get_model_graph_stats\n",
    "\n",
    "batch_size = 4\n",
    "channels = 3\n",
    "height = 32\n",
    "width = 32\n",
    "input_tensor = torch.randn(batch_size, channels, height, width)\n",
    "model = SimpleResNet(in_channels=3, out_channels=16, num_classes=10)\n",
    "\n",
    "graphs = get_model_graph_stats(model, input_tensor, 11, 'SimpleResNet', 'SimpleResNet_low_level', \n",
    "                               low_level_module_maps={torch.nn.Linear: Linear2LayerMapper(-1),\n",
    "                                                      torch.nn.Conv2d: Conv2LayerMapper(-1)})\n",
    "print(graphs[0])"
   ],
   "metadata": {
    "collapsed": false
   },
   "id": "c4f2c5effbb6fbce"
  },
  {
   "cell_type": "code",
   "execution_count": null,
   "outputs": [],
   "source": [
    "import pandas as pd\n",
    "import seaborn as sns\n",
    "import matplotlib.pyplot as plt\n",
    "\n",
    "df = pd.read_csv('graph_stats/SimpleResNet_low_level.csv')\n",
    "sns.boxplot(x='Model', y='Elapsed Time', data=df)\n",
    "plt.show()"
   ],
   "metadata": {
    "collapsed": false
   },
   "id": "44c823d2f7055ef"
  },
  {
   "cell_type": "code",
   "execution_count": null,
   "outputs": [],
   "source": [
    "import torch\n",
    "from deepstruct.model_graph_stats import get_model_graph_stats\n",
    "\n",
    "\n",
    "batch_size = 4\n",
    "channels = 3\n",
    "height = 32\n",
    "width = 32\n",
    "input_tensor = torch.randn(batch_size, channels, height, width)\n",
    "model = SimpleResNet(in_channels=3, out_channels=16, num_classes=10)\n",
    "\n",
    "graphs = get_model_graph_stats(model, input_tensor, 11, 'SimpleResNet', 'SimpleResNet_high_level')\n",
    "print(graphs[0])"
   ],
   "metadata": {
    "collapsed": false
   },
   "id": "aad53d8dd5485d24"
  },
  {
   "cell_type": "code",
   "execution_count": null,
   "outputs": [],
   "source": [
    "import pandas as pd\n",
    "import seaborn as sns\n",
    "import matplotlib.pyplot as plt\n",
    "\n",
    "df = pd.read_csv('graph_stats/SimpleResNet_high_level.csv')\n",
    "sns.boxplot(x='Model', y='Elapsed Time in sec', data=df)\n",
    "plt.show()"
   ],
   "metadata": {
    "collapsed": false
   },
   "id": "b6a0b2028653b021"
  },
  {
   "cell_type": "markdown",
   "source": [
    "# First Experiment"
   ],
   "metadata": {
    "collapsed": false
   },
   "id": "eb98faf9ed240bb0"
  },
  {
   "cell_type": "code",
   "execution_count": 1,
   "outputs": [],
   "source": [
    "import torch.nn as nn\n",
    "\n",
    "class FC_1000(nn.Module):\n",
    "    \n",
    "    def __init__(self):\n",
    "        super(FC_1000, self).__init__()\n",
    "        self.fc = nn.Linear(1000, 1000)\n",
    "    \n",
    "    def forward(self, x):\n",
    "        return self.fc(x)\n",
    "    \n",
    "class FC_2000(nn.Module):\n",
    "    \n",
    "    def __init__(self):\n",
    "        super(FC_2000, self).__init__()\n",
    "        self.fc = nn.Linear(2000, 2000)\n",
    "    \n",
    "    def forward(self, x):\n",
    "        return self.fc(x)\n",
    "    \n",
    "class Simple_Conv(nn.Module):\n",
    "\n",
    "    def __init__(self):\n",
    "        super(Simple_Conv, self).__init__()\n",
    "        self.conv = nn.Conv2d(in_channels=3, out_channels=4, kernel_size=5, stride=1, padding=1)\n",
    "        \n",
    "    def forward(self, x):\n",
    "        return self.conv(x)\n",
    "    "
   ],
   "metadata": {
    "collapsed": false,
    "ExecuteTime": {
     "end_time": "2024-02-10T12:08:57.134264200Z",
     "start_time": "2024-02-10T12:08:44.301396400Z"
    }
   },
   "id": "e1d34b70482f21bb"
  },
  {
   "cell_type": "code",
   "execution_count": 2,
   "outputs": [],
   "source": [
    "import torch\n",
    "from deepstruct.model_graph_stats import get_model_graph_stats\n",
    "from deepstruct.node_map_strategies import Linear2LayerMapper, Conv2LayerMapper\n",
    "\n",
    "fc_1000 = FC_1000()\n",
    "fc_2000 = FC_2000()\n",
    "simple_conv = Simple_Conv()\n",
    "\n",
    "fc_1000_input = torch.randn(1, 1000) # Batch size of 1\n",
    "fc_2000_input = torch.randn(1, 2000) # Batch size of 1\n",
    "\n",
    "conv_input = torch.randn(1, 3, 64, 64) \n",
    "conv_input2 = torch.randn(1, 3, 84, 84)\n"
   ],
   "metadata": {
    "collapsed": false,
    "ExecuteTime": {
     "end_time": "2024-02-10T12:09:39.312222300Z",
     "start_time": "2024-02-10T12:09:38.019746100Z"
    }
   },
   "id": "c097dc5a7f7fd151"
  },
  {
   "cell_type": "code",
   "execution_count": 13,
   "outputs": [
    {
     "name": "stdout",
     "output_type": "stream",
     "text": [
      "fc_1000:  1001000\n",
      "fc_2000:  4002000\n",
      "simple_conv:  304\n",
      "simple_conv ops:  1080000\n",
      "simple_conv ops 2:  1920000\n"
     ]
    }
   ],
   "source": [
    "def count_parameters(model):\n",
    "    return sum(p.numel() for p in model.parameters() if p.requires_grad)\n",
    "\n",
    "def effective_conv_operations(input_height, input_width, in_channel, output_channel, kernel_size, stride=1, padding=0):\n",
    "    output_height = (input_height - kernel_size + 2 * padding) // stride + 1\n",
    "    output_width = (input_width - kernel_size + 2 * padding) // stride + 1\n",
    "    operations_per_output_element = kernel_size * kernel_size * in_channel\n",
    "    total_conv_operations = operations_per_output_element * output_height * output_width * output_channel\n",
    "    return total_conv_operations\n",
    "\n",
    "print('fc_1000: ', count_parameters(fc_1000))\n",
    "print('fc_2000: ', count_parameters(fc_2000))\n",
    "print('simple_conv: ', count_parameters(simple_conv))\n",
    "print('simple_conv ops: ', effective_conv_operations(64, 64, 3, 4, 5))\n",
    "print('simple_conv ops 2: ', effective_conv_operations(84, 84, 3, 4, 5))\n",
    "\n",
    "input_neurons_count = {'FC_1000': fc_1000_input.numel(), 'FC_2000': fc_2000_input.numel(),\n",
    "                       'simple conv': conv_input.numel(), 'simple conv 2': conv_input2.numel()}"
   ],
   "metadata": {
    "collapsed": false,
    "ExecuteTime": {
     "end_time": "2024-02-10T12:28:38.960523500Z",
     "start_time": "2024-02-10T12:28:38.913525700Z"
    }
   },
   "id": "e5d8a366b147367"
  },
  {
   "cell_type": "code",
   "execution_count": 6,
   "outputs": [
    {
     "name": "stderr",
     "output_type": "stream",
     "text": [
      "Tracing Nodes: 100%|██████████| 3/3 [00:02<00:00,  1.35it/s]\n",
      "Tracing Nodes: 100%|██████████| 3/3 [00:01<00:00,  1.70it/s]\n",
      "Tracing Nodes: 100%|██████████| 3/3 [00:01<00:00,  2.13it/s]\n",
      "Tracing Nodes: 100%|██████████| 3/3 [00:01<00:00,  1.92it/s]\n",
      "Tracing Nodes: 100%|██████████| 3/3 [00:01<00:00,  1.78it/s]\n",
      "Tracing Nodes: 100%|██████████| 3/3 [00:01<00:00,  2.28it/s]\n",
      "Tracing Nodes: 100%|██████████| 3/3 [00:01<00:00,  2.24it/s]\n",
      "Tracing Nodes: 100%|██████████| 3/3 [00:01<00:00,  1.70it/s]\n",
      "Tracing Nodes: 100%|██████████| 3/3 [00:01<00:00,  2.22it/s]\n",
      "Tracing Nodes: 100%|██████████| 3/3 [00:01<00:00,  2.20it/s]\n",
      "Tracing Nodes: 100%|██████████| 3/3 [00:01<00:00,  1.55it/s]\n",
      "Tracing Nodes: 100%|██████████| 3/3 [00:02<00:00,  1.32it/s]\n",
      "Tracing Nodes: 100%|██████████| 3/3 [00:02<00:00,  1.22it/s]\n",
      "Tracing Nodes: 100%|██████████| 3/3 [00:02<00:00,  1.19it/s]\n",
      "Tracing Nodes: 100%|██████████| 3/3 [00:02<00:00,  1.32it/s]\n",
      "Tracing Nodes: 100%|██████████| 3/3 [00:02<00:00,  1.11it/s]\n",
      "Tracing Nodes: 100%|██████████| 3/3 [00:02<00:00,  1.06it/s]\n",
      "Tracing Nodes: 100%|██████████| 3/3 [00:02<00:00,  1.31it/s]\n",
      "Tracing Nodes: 100%|██████████| 3/3 [00:02<00:00,  1.28it/s]\n",
      "Tracing Nodes: 100%|██████████| 3/3 [00:03<00:00,  1.07s/it]\n",
      "Tracing Nodes: 100%|██████████| 3/3 [00:02<00:00,  1.27it/s]\n",
      "Tracing Nodes: 100%|██████████| 3/3 [00:03<00:00,  1.15s/it]\n",
      "Tracing Nodes: 100%|██████████| 3/3 [00:04<00:00,  1.34s/it]\n",
      "Tracing Nodes: 100%|██████████| 3/3 [00:03<00:00,  1.29s/it]\n",
      "Tracing Nodes: 100%|██████████| 3/3 [00:03<00:00,  1.26s/it]\n",
      "Tracing Nodes: 100%|██████████| 3/3 [00:03<00:00,  1.25s/it]\n",
      "Tracing Nodes: 100%|██████████| 3/3 [00:03<00:00,  1.24s/it]\n",
      "Tracing Nodes: 100%|██████████| 3/3 [00:03<00:00,  1.25s/it]\n",
      "Tracing Nodes: 100%|██████████| 3/3 [00:03<00:00,  1.27s/it]\n",
      "Tracing Nodes: 100%|██████████| 3/3 [00:03<00:00,  1.24s/it]\n",
      "Tracing Nodes: 100%|██████████| 3/3 [00:03<00:00,  1.25s/it]\n",
      "Tracing Nodes: 100%|██████████| 3/3 [00:03<00:00,  1.25s/it]\n",
      "Tracing Nodes: 100%|██████████| 3/3 [00:03<00:00,  1.25s/it]\n",
      "Tracing Nodes: 100%|██████████| 3/3 [00:14<00:00,  4.92s/it]\n",
      "Tracing Nodes: 100%|██████████| 3/3 [00:15<00:00,  5.20s/it]\n",
      "Tracing Nodes: 100%|██████████| 3/3 [00:15<00:00,  5.25s/it]\n",
      "Tracing Nodes: 100%|██████████| 3/3 [00:15<00:00,  5.29s/it]\n",
      "Tracing Nodes: 100%|██████████| 3/3 [00:15<00:00,  5.29s/it]\n",
      "Tracing Nodes: 100%|██████████| 3/3 [00:14<00:00,  4.99s/it]\n",
      "Tracing Nodes: 100%|██████████| 3/3 [00:15<00:00,  5.10s/it]\n",
      "Tracing Nodes: 100%|██████████| 3/3 [00:15<00:00,  5.02s/it]\n",
      "Tracing Nodes: 100%|██████████| 3/3 [00:15<00:00,  5.19s/it]\n",
      "Tracing Nodes: 100%|██████████| 3/3 [00:15<00:00,  5.04s/it]\n",
      "Tracing Nodes: 100%|██████████| 3/3 [00:15<00:00,  5.13s/it]\n"
     ]
    },
    {
     "data": {
      "text/plain": "[<deepstruct.topologie_representation.LayeredFXGraph at 0x1bafc68a5c0>,\n <deepstruct.topologie_representation.LayeredFXGraph at 0x1bafc68a5c0>,\n <deepstruct.topologie_representation.LayeredFXGraph at 0x1bafc68a5c0>,\n <deepstruct.topologie_representation.LayeredFXGraph at 0x1bafc68a5c0>,\n <deepstruct.topologie_representation.LayeredFXGraph at 0x1bafc68a5c0>,\n <deepstruct.topologie_representation.LayeredFXGraph at 0x1bafc68a5c0>,\n <deepstruct.topologie_representation.LayeredFXGraph at 0x1bafc68a5c0>,\n <deepstruct.topologie_representation.LayeredFXGraph at 0x1bafc68a5c0>,\n <deepstruct.topologie_representation.LayeredFXGraph at 0x1bafc68a5c0>,\n <deepstruct.topologie_representation.LayeredFXGraph at 0x1bafc68a5c0>,\n <deepstruct.topologie_representation.LayeredFXGraph at 0x1bafc68a5c0>]"
     },
     "execution_count": 6,
     "metadata": {},
     "output_type": "execute_result"
    }
   ],
   "source": [
    "get_model_graph_stats(simple_conv, conv_input, 11, 'simple conv', 'simple_conv_low_level', \n",
    "                      low_level_module_maps={torch.nn.Linear: Linear2LayerMapper(-1),\n",
    "                                             torch.nn.Conv2d: Conv2LayerMapper(-1)})\n",
    "\n",
    "get_model_graph_stats(simple_conv, conv_input2, 11, 'simple conv 2', 'simple_conv_2_low_level', \n",
    "                      low_level_module_maps={torch.nn.Linear: Linear2LayerMapper(-1),\n",
    "                                             torch.nn.Conv2d: Conv2LayerMapper(-1)})\n",
    "\n",
    "get_model_graph_stats(fc_1000, fc_1000_input, 11, 'FC_1000', 'FC_1000_low_level', \n",
    "                      low_level_module_maps={torch.nn.Linear: Linear2LayerMapper(-1),\n",
    "                                             torch.nn.Conv2d: Conv2LayerMapper(-1)})\n",
    "\n",
    "get_model_graph_stats(fc_2000, fc_2000_input, 11, 'FC_2000', 'FC_2000_low_level', \n",
    "                      low_level_module_maps={torch.nn.Linear: Linear2LayerMapper(-1),\n",
    "                                             torch.nn.Conv2d: Conv2LayerMapper(-1)})"
   ],
   "metadata": {
    "collapsed": false,
    "ExecuteTime": {
     "end_time": "2024-02-10T12:16:19.769192600Z",
     "start_time": "2024-02-10T12:12:00.064263700Z"
    }
   },
   "id": "18e490901d7512e5"
  },
  {
   "cell_type": "markdown",
   "source": [
    "## Correlation analysis with multiple Boxplots in one Chart\n",
    "### X = model names\n",
    "### Y = elapsed time in seconds"
   ],
   "metadata": {
    "collapsed": false
   },
   "id": "86e2b5afc731ba70"
  },
  {
   "cell_type": "code",
   "execution_count": 41,
   "outputs": [
    {
     "data": {
      "text/plain": "<Figure size 640x480 with 1 Axes>",
      "image/png": "[encoded data removed]"
     },
     "metadata": {},
     "output_type": "display_data"
    }
   ],
   "source": [
    "import pandas as pd\n",
    "import seaborn as sns\n",
    "import matplotlib.pyplot as plt\n",
    "\n",
    "folder = \"graph_stats/\"\n",
    "file_names = [\"simple_conv_low_level.csv\", \"simple_conv_2_low_level.csv\", \"FC_1000_low_level.csv\", \"FC_2000_low_level.csv\"]\n",
    "dataframes = []\n",
    "for file in file_names:\n",
    "    df = pd.read_csv(folder + file)\n",
    "    model_name = df.loc[1, 'Model']\n",
    "    df['Input size'] = input_neurons_count[model_name]\n",
    "    dataframes.append(df)\n",
    "\n",
    "combined_df = pd.concat(dataframes)\n",
    "sns.set_theme(style='ticks', palette='pastel')\n",
    "sns.boxplot(x='Model', y='Elapsed Time', data=combined_df, hue='Input size', palette=['m', 'g', 'r', 'b'])\n",
    "sns.despine(offset=10, trim=True)\n",
    "plt.legend = 'Input tensor elements'\n",
    "plt.xlabel('Models')\n",
    "plt.ylabel('Elapsed Time in sec')\n",
    "plt.show()\n"
   ],
   "metadata": {
    "collapsed": false,
    "ExecuteTime": {
     "end_time": "2024-02-10T13:26:21.957220700Z",
     "start_time": "2024-02-10T13:26:21.723566300Z"
    }
   },
   "id": "3eb94e1f5142960c"
  },
  {
   "cell_type": "markdown",
   "source": [],
   "metadata": {
    "collapsed": false
   },
   "id": "79570550b84e3ac9"
  },
  {
   "cell_type": "markdown",
   "source": [
    "# Second Experiment"
   ],
   "metadata": {
    "collapsed": false
   },
   "id": "40020918afac214d"
  },
  {
   "cell_type": "code",
   "execution_count": 60,
   "outputs": [
    {
     "name": "stderr",
     "output_type": "stream",
     "text": [
      "Tracing Nodes: 100%|██████████| 517/517 [00:00<00:00, 33226.41it/s]"
     ]
    },
    {
     "name": "stdout",
     "output_type": "stream",
     "text": [
      "LayeredFXGraph with 517 nodes and 566 edges\n"
     ]
    },
    {
     "name": "stderr",
     "output_type": "stream",
     "text": [
      "\n"
     ]
    }
   ],
   "source": [
    "from deepstruct.traverse_strategies import FXTraversal\n",
    "from deepstruct.flexible_transform import GraphTransform\n",
    "import torch\n",
    "import torchvision\n",
    "\n",
    "model = torchvision.models.resnet152(True) # Reset152, GoogleNet und AlexNet\n",
    "input_tensor = torch.rand(1, 3, 224, 224)\n",
    "graph_transformer = GraphTransform(input_tensor, traversal_strategy=FXTraversal())\n",
    "graph_transformer.transform(model)\n",
    "graph = graph_transformer.get_graph()\n",
    "print(graph)"
   ],
   "metadata": {
    "collapsed": false,
    "ExecuteTime": {
     "end_time": "2024-02-10T13:52:25.355726700Z",
     "start_time": "2024-02-10T13:52:20.390717700Z"
    }
   },
   "id": "d3a955674dd29709"
  },
  {
   "cell_type": "code",
   "execution_count": 62,
   "outputs": [
    {
     "name": "stderr",
     "output_type": "stream",
     "text": [
      "Tracing Nodes: 100%|██████████| 517/517 [00:00<00:00, 31305.29it/s]\n",
      "Tracing Nodes: 100%|██████████| 517/517 [00:00<00:00, 9969.95it/s]\n",
      "Tracing Nodes: 100%|██████████| 517/517 [00:00<00:00, 30822.06it/s]\n",
      "Tracing Nodes: 100%|██████████| 517/517 [00:00<00:00, 45404.12it/s]\n",
      "Tracing Nodes: 100%|██████████| 517/517 [00:00<?, ?it/s]\n",
      "Tracing Nodes: 100%|██████████| 517/517 [00:00<00:00, 33109.22it/s]\n",
      "Tracing Nodes: 100%|██████████| 517/517 [00:00<?, ?it/s]\n",
      "Tracing Nodes: 100%|██████████| 517/517 [00:00<00:00, 33237.10it/s]\n",
      "Tracing Nodes: 100%|██████████| 517/517 [00:00<00:00, 35651.89it/s]\n",
      "Tracing Nodes: 100%|██████████| 517/517 [00:00<00:00, 31615.20it/s]\n",
      "Tracing Nodes: 100%|██████████| 517/517 [00:00<00:00, 38053.75it/s]\n",
      "Tracing Nodes: 100%|██████████| 212/212 [00:00<?, ?it/s]\n",
      "Tracing Nodes: 100%|██████████| 212/212 [00:00<?, ?it/s]\n",
      "Tracing Nodes: 100%|██████████| 212/212 [00:00<00:00, 34565.30it/s]\n",
      "Tracing Nodes: 100%|██████████| 212/212 [00:00<?, ?it/s]\n",
      "Tracing Nodes: 100%|██████████| 212/212 [00:00<00:00, 16199.24it/s]\n",
      "Tracing Nodes: 100%|██████████| 212/212 [00:00<00:00, 13574.01it/s]\n",
      "Tracing Nodes: 100%|██████████| 212/212 [00:00<?, ?it/s]\n",
      "Tracing Nodes: 100%|██████████| 212/212 [00:00<00:00, 15125.15it/s]\n",
      "Tracing Nodes: 100%|██████████| 212/212 [00:00<?, ?it/s]\n",
      "Tracing Nodes: 100%|██████████| 212/212 [00:00<?, ?it/s]\n",
      "Tracing Nodes: 100%|██████████| 212/212 [00:00<?, ?it/s]\n",
      "Tracing Nodes: 100%|██████████| 24/24 [00:00<00:00, 16296.47it/s]\n",
      "Tracing Nodes: 100%|██████████| 24/24 [00:00<?, ?it/s]\n",
      "Tracing Nodes: 100%|██████████| 24/24 [00:00<00:00, 8407.52it/s]\n",
      "Tracing Nodes: 100%|██████████| 24/24 [00:00<?, ?it/s]\n",
      "Tracing Nodes: 100%|██████████| 24/24 [00:00<?, ?it/s]\n",
      "Tracing Nodes: 100%|██████████| 24/24 [00:00<00:00, 11150.12it/s]\n",
      "Tracing Nodes: 100%|██████████| 24/24 [00:00<?, ?it/s]\n",
      "Tracing Nodes: 100%|██████████| 24/24 [00:00<00:00, 2116.64it/s]\n",
      "Tracing Nodes: 100%|██████████| 24/24 [00:00<?, ?it/s]\n",
      "Tracing Nodes: 100%|██████████| 24/24 [00:00<?, ?it/s]\n",
      "Tracing Nodes: 100%|██████████| 24/24 [00:00<?, ?it/s]\n"
     ]
    },
    {
     "data": {
      "text/plain": "[<deepstruct.topologie_representation.LayeredFXGraph at 0x1bc5efb4ca0>,\n <deepstruct.topologie_representation.LayeredFXGraph at 0x1bc5efb4ca0>,\n <deepstruct.topologie_representation.LayeredFXGraph at 0x1bc5efb4ca0>,\n <deepstruct.topologie_representation.LayeredFXGraph at 0x1bc5efb4ca0>,\n <deepstruct.topologie_representation.LayeredFXGraph at 0x1bc5efb4ca0>,\n <deepstruct.topologie_representation.LayeredFXGraph at 0x1bc5efb4ca0>,\n <deepstruct.topologie_representation.LayeredFXGraph at 0x1bc5efb4ca0>,\n <deepstruct.topologie_representation.LayeredFXGraph at 0x1bc5efb4ca0>,\n <deepstruct.topologie_representation.LayeredFXGraph at 0x1bc5efb4ca0>,\n <deepstruct.topologie_representation.LayeredFXGraph at 0x1bc5efb4ca0>,\n <deepstruct.topologie_representation.LayeredFXGraph at 0x1bc5efb4ca0>]"
     },
     "execution_count": 62,
     "metadata": {},
     "output_type": "execute_result"
    }
   ],
   "source": [
    "# FC 1000, simple conv high level \n",
    "input_tensor = torch.rand(1, 3, 224, 224)\n",
    "get_model_graph_stats(torchvision.models.resnet152(True), input_tensor, 11, 'ResNet_152', 'resnet_152_high_level')\n",
    "\n",
    "get_model_graph_stats(torchvision.models.googlenet(True), input_tensor, 11, 'GoogleNet', 'googlenet_high_level')     \n",
    "\n",
    "get_model_graph_stats(torchvision.models.alexnet(True), input_tensor, 11, 'AlexNet', 'alexnet_high_level')"
   ],
   "metadata": {
    "collapsed": false,
    "ExecuteTime": {
     "end_time": "2024-02-12T06:10:56.969938500Z",
     "start_time": "2024-02-12T06:10:24.445256Z"
    }
   },
   "id": "624daeecb5634b33"
  },
  {
   "cell_type": "code",
   "execution_count": 64,
   "outputs": [
    {
     "name": "stderr",
     "output_type": "stream",
     "text": [
      "Tracing Nodes: 100%|██████████| 3/3 [00:00<?, ?it/s]\n",
      "Tracing Nodes: 100%|██████████| 3/3 [00:00<?, ?it/s]\n",
      "Tracing Nodes: 100%|██████████| 3/3 [00:00<?, ?it/s]\n",
      "Tracing Nodes: 100%|██████████| 3/3 [00:00<?, ?it/s]\n",
      "Tracing Nodes: 100%|██████████| 3/3 [00:00<00:00, 192.02it/s]\n",
      "Tracing Nodes: 100%|██████████| 3/3 [00:00<?, ?it/s]\n",
      "Tracing Nodes: 100%|██████████| 3/3 [00:00<?, ?it/s]\n",
      "Tracing Nodes: 100%|██████████| 3/3 [00:00<?, ?it/s]\n",
      "Tracing Nodes: 100%|██████████| 3/3 [00:00<?, ?it/s]\n",
      "Tracing Nodes: 100%|██████████| 3/3 [00:00<?, ?it/s]\n",
      "Tracing Nodes: 100%|██████████| 3/3 [00:00<?, ?it/s]\n",
      "Tracing Nodes: 100%|██████████| 3/3 [00:00<?, ?it/s]\n",
      "Tracing Nodes: 100%|██████████| 3/3 [00:00<00:00, 192.69it/s]\n",
      "Tracing Nodes: 100%|██████████| 3/3 [00:00<?, ?it/s]\n",
      "Tracing Nodes: 100%|██████████| 3/3 [00:00<?, ?it/s]\n",
      "Tracing Nodes: 100%|██████████| 3/3 [00:00<00:00, 191.77it/s]\n",
      "Tracing Nodes: 100%|██████████| 3/3 [00:00<?, ?it/s]\n",
      "Tracing Nodes: 100%|██████████| 3/3 [00:00<?, ?it/s]\n",
      "Tracing Nodes: 100%|██████████| 3/3 [00:00<?, ?it/s]\n",
      "Tracing Nodes: 100%|██████████| 3/3 [00:00<?, ?it/s]\n",
      "Tracing Nodes: 100%|██████████| 3/3 [00:00<?, ?it/s]\n",
      "Tracing Nodes: 100%|██████████| 3/3 [00:00<?, ?it/s]\n"
     ]
    },
    {
     "data": {
      "text/plain": "[<deepstruct.topologie_representation.LayeredFXGraph at 0x1bc4de70b20>,\n <deepstruct.topologie_representation.LayeredFXGraph at 0x1bc4de70b20>,\n <deepstruct.topologie_representation.LayeredFXGraph at 0x1bc4de70b20>,\n <deepstruct.topologie_representation.LayeredFXGraph at 0x1bc4de70b20>,\n <deepstruct.topologie_representation.LayeredFXGraph at 0x1bc4de70b20>,\n <deepstruct.topologie_representation.LayeredFXGraph at 0x1bc4de70b20>,\n <deepstruct.topologie_representation.LayeredFXGraph at 0x1bc4de70b20>,\n <deepstruct.topologie_representation.LayeredFXGraph at 0x1bc4de70b20>,\n <deepstruct.topologie_representation.LayeredFXGraph at 0x1bc4de70b20>,\n <deepstruct.topologie_representation.LayeredFXGraph at 0x1bc4de70b20>,\n <deepstruct.topologie_representation.LayeredFXGraph at 0x1bc4de70b20>]"
     },
     "execution_count": 64,
     "metadata": {},
     "output_type": "execute_result"
    }
   ],
   "source": [
    "get_model_graph_stats(simple_conv, conv_input, 11, 'simple conv', 'simple_conv_high_level')\n",
    "\n",
    "get_model_graph_stats(fc_1000, fc_1000_input, 11, 'FC_1000', 'FC_1000_high_level')"
   ],
   "metadata": {
    "collapsed": false,
    "ExecuteTime": {
     "end_time": "2024-02-12T09:08:43.556322400Z",
     "start_time": "2024-02-12T09:08:43.212744200Z"
    }
   },
   "id": "b55339cd31051e16"
  },
  {
   "cell_type": "code",
   "execution_count": null,
   "outputs": [],
   "source": [],
   "metadata": {
    "collapsed": false
   },
   "id": "17662542bc0bd4d6"
  },
  {
   "cell_type": "code",
   "execution_count": 87,
   "outputs": [
    {
     "data": {
      "text/plain": "<Figure size 1000x600 with 1 Axes>",
      "image/png": "[encoded data removed]"
     },
     "metadata": {},
     "output_type": "display_data"
    }
   ],
   "source": [
    "import pandas as pd\n",
    "import seaborn as sns\n",
    "import matplotlib.pyplot as plt\n",
    "\n",
    "older = \"graph_stats/\"\n",
    "file_names = [\"simple_conv_low_level.csv\", \"simple_conv_high_level.csv\", \"FC_1000_high_level.csv\",\n",
    "              \"FC_1000_low_level.csv\", \"alexnet_high_level.csv\", \"googlenet_high_level.csv\", \"resnet_152_high_level.csv\"]\n",
    "models = [simple_conv, simple_conv, fc_1000, fc_1000,\n",
    "          torchvision.models.alexnet(True), torchvision.models.googlenet(True),\n",
    "          torchvision.models.resnet152(True)]\n",
    "final_df = pd.DataFrame(columns=['ModelName', 'ElapsedTime', 'CountOfParameters', 'ExtractionLevel'])\n",
    "\n",
    "for file, model in zip(file_names, models):\n",
    "    df = pd.read_csv(folder + file)\n",
    "    data = [df['Model'][0], df['Elapsed Time'].mean(), count_parameters(model), 'High' if 'high' in file else 'Low']\n",
    "    final_df.loc[len(final_df.index)] = data\n",
    "\n",
    "markers = {'AlexNet': 'o', 'ResNet_152': 's', 'GoogleNet': 'D', 'simple conv': '*', 'FC_1000': 'p'} \n",
    "palette = {'Low': 'blue', 'High': 'red'} \n",
    "\n",
    "plt.figure(figsize=(10, 6))\n",
    "\n",
    "for (modelName, extractionLevel), group_data in final_df.groupby(['ModelName', 'ExtractionLevel']):\n",
    "    sns.scatterplot(x='CountOfParameters', y='ElapsedTime', data=group_data,\n",
    "                    marker=markers[modelName], color=palette[extractionLevel], label=f'{modelName} ({extractionLevel})', s=100)\n",
    "\n",
    "plt.title('Elapsed Time for Model Extraction by Parameter Count')\n",
    "plt.xscale('log')\n",
    "plt.xlabel('Count of Parameters (Log scale)')\n",
    "plt.ylabel('Elapsed Time (s)')\n",
    "# plt.legend(title='Model and Extraction Level', bbox_to_anchor=(1.05, 1), loc='upper left')\n",
    "\n",
    "plt.tight_layout()\n",
    "plt.show()\n"
   ],
   "metadata": {
    "collapsed": false,
    "ExecuteTime": {
     "end_time": "2024-02-12T12:57:55.523631300Z",
     "start_time": "2024-02-12T12:57:52.830566800Z"
    }
   },
   "id": "f43ffdce2ac6f9e8"
  },
  {
   "cell_type": "markdown",
   "source": [],
   "metadata": {
    "collapsed": false
   },
   "id": "3d001f4caf9e1c13"
  }
 ],
 "metadata": {
  "kernelspec": {
   "display_name": "Python 3 (ipykernel)",
   "language": "python",
   "name": "python3"
  },
  "language_info": {
   "codemirror_mode": {
    "name": "ipython",
    "version": 3
   },
   "file_extension": ".py",
   "mimetype": "text/x-python",
   "name": "python",
   "nbconvert_exporter": "python",
   "pygments_lexer": "ipython3",
   "version": "3.10.4"
  }
 },
 "nbformat": 4,
 "nbformat_minor": 5
}
